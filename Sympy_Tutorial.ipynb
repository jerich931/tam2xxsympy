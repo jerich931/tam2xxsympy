{
 "cells": [
  {
   "cell_type": "code",
   "execution_count": 5,
   "id": "accurate-cornwall",
   "metadata": {},
   "outputs": [
    {
     "data": {
      "text/latex": [
       "$\\displaystyle 0.0850484227147315$"
      ],
      "text/plain": [
       "0.0850484227147315"
      ]
     },
     "execution_count": 5,
     "metadata": {},
     "output_type": "execute_result"
    }
   ],
   "source": [
    "from sympy import *\n",
    "import numpy as np\n",
    "\n",
    "#given:\n",
    "\n",
    "T1 = 45 #applied torsional load - #Nm\n",
    "G = 80 #Shear modulus - #GPa\n",
    "d = 20 #diameter of rods - #mm\n",
    "rB = 150 #radius of gear B - #mm\n",
    "rC = 75 #radius of gear C - #mm\n",
    "L1 = 2 #length of rod 1 - #m\n",
    "L2 = 1.5 #length of rod 2 - #m\n",
    "\n",
    "#**********************************************\n",
    "#convert to base units\n",
    "\n",
    "T1 = T1 \n",
    "G = G*10**9 #Pa\n",
    "d = d*.001 #m\n",
    "rB = rB*.001 #m\n",
    "rC = rC*.001 #m\n",
    "\n",
    "#**********************************************\n",
    "#polar moment of inertia\n",
    "\n",
    "J = (np.pi/2)*(d/2)**4\n",
    "\n",
    "#**********************************************\n",
    "\n",
    "#unknowns:\n",
    "\n",
    "T2, fB, fC, phiA, phiAB, phiB, phiC = symbols('T2, fB, Fc, phiA, phiAB, phiB, phiC')\n",
    "\n",
    "#**********************************************\n",
    "\n",
    "#equations:\n",
    "\n",
    "#eoe: \n",
    "\n",
    "eq1 = Eq(-T1 + fB*rB, 0)\n",
    "eq2 = Eq(-T2 + fC*rC, 0)\n",
    "\n",
    "#constitutive eqns:\n",
    "\n",
    "eq3 = Eq(phiC, (T2*L2)/(G*J))\n",
    "eq4 = Eq(phiAB, (T1*L1)/(G*J))\n",
    "\n",
    "#compatibility eqns:\n",
    "\n",
    "eq5 = Eq(phiB*rB, phiC*rC)\n",
    "eq6 = Eq(phiA, phiB + phiAB)\n",
    "eq7 = Eq(fC, fB)\n",
    "\n",
    "#**********************************************\n",
    "\n",
    "#solution: \n",
    "\n",
    "soln = solve((eq1, eq2, eq3, eq4, eq5, eq6, eq7), (T2, fB, Fc, phiA, phiAB, phiB, phiC), dict=true)\n",
    "#print(soln)\n",
    "\n",
    "phiA = soln[0][phiA]\n",
    "phiA"
   ]
  },
  {
   "cell_type": "code",
   "execution_count": null,
   "id": "hollywood-girlfriend",
   "metadata": {},
   "outputs": [],
   "source": []
  }
 ],
 "metadata": {
  "kernelspec": {
   "display_name": "Python 3",
   "language": "python",
   "name": "python3"
  },
  "language_info": {
   "codemirror_mode": {
    "name": "ipython",
    "version": 3
   },
   "file_extension": ".py",
   "mimetype": "text/x-python",
   "name": "python",
   "nbconvert_exporter": "python",
   "pygments_lexer": "ipython3",
   "version": "3.8.6"
  }
 },
 "nbformat": 4,
 "nbformat_minor": 5
}
